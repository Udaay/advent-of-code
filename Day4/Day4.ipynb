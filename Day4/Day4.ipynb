{
 "cells": [
  {
   "cell_type": "code",
   "execution_count": 60,
   "id": "7fa98027-e8d3-4fa1-991c-daa361639c23",
   "metadata": {},
   "outputs": [],
   "source": [
    "def generate_2d_matrix_from_file(filename):\n",
    "    matrix = []\n",
    "    try:\n",
    "        with open(filename, 'r') as file:\n",
    "            for line in file:\n",
    "                row = list(line.strip())\n",
    "                matrix.append(row)\n",
    "    except FileNotFoundError:\n",
    "        print(f\"Error: File '{filename}' not found.\")\n",
    "        return None\n",
    "    return matrix"
   ]
  },
  {
   "cell_type": "code",
   "execution_count": 61,
   "id": "c72fd65a-843d-4b75-ae83-b77be27bdd30",
   "metadata": {},
   "outputs": [],
   "source": [
    "def getCount(s):\n",
    "  return s.count('XMAS') + s.count('SAMX')\n",
    "\n",
    "def getTopLeftToBottomRight(startInd, limit, matrix):\n",
    "  i, j = startInd\n",
    "  s = \"\"\n",
    "  while i < limit and j < limit:\n",
    "    s += matrix[i][j]\n",
    "    i+=1\n",
    "    j+=1\n",
    "  return s\n",
    "\n",
    "def getTopRightToBottomLeft(startInd, matrix):\n",
    "  i, j = startInd\n",
    "  s = \"\"\n",
    "  while j >= 0 and i <= startInd[1]:\n",
    "    s += matrix[i][j]\n",
    "    i+=1\n",
    "    j-=1\n",
    "  return s\n",
    "  \n"
   ]
  },
  {
   "cell_type": "code",
   "execution_count": 62,
   "id": "043966f7-1831-443b-8152-54917c6847bd",
   "metadata": {},
   "outputs": [
    {
     "data": {
      "text/plain": [
       "2397"
      ]
     },
     "execution_count": 62,
     "metadata": {},
     "output_type": "execute_result"
    }
   ],
   "source": [
    "def Solution():\n",
    "  matrix = generate_2d_matrix_from_file(\"input.txt\")\n",
    "\n",
    "  count = 0\n",
    "  row = len(matrix)\n",
    "  col = len(matrix[0])\n",
    "  \n",
    "  #row\n",
    "  for rowList in matrix:\n",
    "    count += getCount(\"\".join(rowList))\n",
    "\n",
    "  #column\n",
    "  for i in range(row):\n",
    "    s= \"\"\n",
    "    for j in range(col):\n",
    "      s += matrix[j][i]\n",
    "    count += getCount(s)\n",
    "\n",
    "\n",
    "  for i in range(row):\n",
    "  \n",
    "    s1 = getTopLeftToBottomRight([0,i], row, matrix)\n",
    "    s3 = getTopRightToBottomLeft([0,i],matrix )\n",
    "    count += getCount(s1) + getCount(s3)\n",
    "    if i != 0:\n",
    "      s2 = getTopLeftToBottomRight([i,0], row, matrix)\n",
    "      s4 = getTopRightToBottomLeft([i,col-1],matrix )\n",
    "      count += getCount(s2) + getCount(s4)\n",
    "\n",
    "  \n",
    "  return count\n",
    "    \n",
    "Solution()\n",
    "  \n",
    "  "
   ]
  },
  {
   "cell_type": "code",
   "execution_count": 63,
   "id": "0ca851b5-2b72-4f98-999b-e01670b1cb9b",
   "metadata": {},
   "outputs": [
    {
     "data": {
      "text/plain": [
       "1824"
      ]
     },
     "execution_count": 63,
     "metadata": {},
     "output_type": "execute_result"
    }
   ],
   "source": [
    "def countXmasOccurrences(grid):\n",
    "    rows = len(grid)\n",
    "    cols = len(grid[0])\n",
    "    \n",
    "    directions = [\n",
    "        (-1, -1), \n",
    "        (-1, 1),\n",
    "        (1, 1), \n",
    "        (1, -1),\n",
    "    ]\n",
    "    \n",
    "    def check_direction(r, c):\n",
    "      target = [\"M\", \"S\"]\n",
    "      for dr, dc in directions:\n",
    "        if grid[r+dr][c+dc] not in target:\n",
    "          return False\n",
    "        \n",
    "      if grid[r-1][c-1] == grid[r+1][c+1] or grid[r-1][c+1] == grid[r+1][c-1]:\n",
    "        return False\n",
    "\n",
    "      return True\n",
    "        \n",
    "    count = 0\n",
    "    for r in range(1, rows-1):\n",
    "        for c in range(1, cols - 1):  \n",
    "          if grid[r][c] == \"A\" and check_direction(r, c):\n",
    "            count += 1\n",
    "\n",
    "    return count\n",
    "\n",
    "\n",
    "def Solution2():\n",
    "  matrix = generate_2d_matrix_from_file(\"input.txt\")\n",
    "  return countXmasOccurrences(matrix)\n",
    "\n",
    "\n",
    "Solution2()"
   ]
  },
  {
   "cell_type": "code",
   "execution_count": null,
   "id": "48239e04-90f9-4fad-95cc-020beef37184",
   "metadata": {},
   "outputs": [],
   "source": []
  }
 ],
 "metadata": {
  "kernelspec": {
   "display_name": "Python 3 (ipykernel)",
   "language": "python",
   "name": "python3"
  },
  "language_info": {
   "codemirror_mode": {
    "name": "ipython",
    "version": 3
   },
   "file_extension": ".py",
   "mimetype": "text/x-python",
   "name": "python",
   "nbconvert_exporter": "python",
   "pygments_lexer": "ipython3",
   "version": "3.12.7"
  }
 },
 "nbformat": 4,
 "nbformat_minor": 5
}
