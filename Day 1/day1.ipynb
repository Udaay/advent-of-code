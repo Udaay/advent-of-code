{
 "cells": [
  {
   "cell_type": "code",
   "execution_count": 2,
   "id": "3789b78a-96e8-449b-b7ff-02259049408f",
   "metadata": {},
   "outputs": [],
   "source": [
    "def convertToList():\n",
    "  l1 = []\n",
    "  l2 = []\n",
    "  with open(\"input.txt\", \"r\") as file:\n",
    "      for line in file:\n",
    "          numbers = line.strip().split()\n",
    "          num1, num2 = map(int, numbers)\n",
    "          l1.append(num1)\n",
    "          l2.append(num2)\n",
    "  return l1, l2"
   ]
  },
  {
   "cell_type": "code",
   "execution_count": 8,
   "id": "ab37e5f5-9703-4256-b2b7-c5a13926c9d3",
   "metadata": {},
   "outputs": [],
   "source": [
    "def findTotalDistance():\n",
    "  a, b = convertToList()\n",
    "  a.sort()\n",
    "  b.sort()\n",
    "  dist = 0\n",
    "  for n1, n2 in zip(a,b):\n",
    "    dist += abs(n1-n2)\n",
    "  return dist"
   ]
  },
  {
   "cell_type": "code",
   "execution_count": 9,
   "id": "72272d2b-bcee-4799-9a7b-550e8f231ded",
   "metadata": {},
   "outputs": [
    {
     "data": {
      "text/plain": [
       "1879048"
      ]
     },
     "execution_count": 9,
     "metadata": {},
     "output_type": "execute_result"
    }
   ],
   "source": [
    "findTotalDistance()"
   ]
  },
  {
   "cell_type": "code",
   "execution_count": 11,
   "id": "71776d65-73ac-4e1f-8ec4-93d20cda5c4f",
   "metadata": {},
   "outputs": [
    {
     "data": {
      "text/plain": [
       "21024792"
      ]
     },
     "execution_count": 11,
     "metadata": {},
     "output_type": "execute_result"
    }
   ],
   "source": [
    "from collections import Counter\n",
    "\n",
    "def similarityCheck():\n",
    "  l1, l2 = convertToList()\n",
    "  freq = Counter(l2)\n",
    "  similarity = 0\n",
    "  for num in l1:\n",
    "    similarity += freq[num] * num\n",
    "\n",
    "  return similarity\n",
    "\n",
    "similarityCheck()\n",
    "  "
   ]
  },
  {
   "cell_type": "code",
   "execution_count": null,
   "id": "566b3d67-f747-4e72-8ca9-44c1626725fc",
   "metadata": {},
   "outputs": [],
   "source": []
  }
 ],
 "metadata": {
  "kernelspec": {
   "display_name": "Python 3 (ipykernel)",
   "language": "python",
   "name": "python3"
  },
  "language_info": {
   "codemirror_mode": {
    "name": "ipython",
    "version": 3
   },
   "file_extension": ".py",
   "mimetype": "text/x-python",
   "name": "python",
   "nbconvert_exporter": "python",
   "pygments_lexer": "ipython3",
   "version": "3.12.7"
  }
 },
 "nbformat": 4,
 "nbformat_minor": 5
}
