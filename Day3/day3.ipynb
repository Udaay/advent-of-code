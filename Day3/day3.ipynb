{
 "cells": [
  {
   "cell_type": "code",
   "execution_count": 37,
   "id": "fbd8c9b0-f627-436a-947e-f4bd413f06a6",
   "metadata": {},
   "outputs": [
    {
     "name": "stdout",
     "output_type": "stream",
     "text": [
      "1713315\n",
      "82045421\n"
     ]
    }
   ],
   "source": [
    "import re\n",
    "\n",
    "def getPattern(pattern, injectBool = False):\n",
    "  ops = []\n",
    "  with open('input.txt', 'r') as file:\n",
    "      for line in file:\n",
    "          matches = re.findall(pattern, line)\n",
    "          for match in matches:\n",
    "              if injectBool:\n",
    "                val = match\n",
    "                if match == 'do()':\n",
    "                  val = True\n",
    "                elif match == \"don't()\":\n",
    "                  val = False\n",
    "                ops.append(val)\n",
    "              else:\n",
    "                ops.append(match)\n",
    "  return ops\n",
    "\n",
    "def mul(a, b):\n",
    "    return a * b\n",
    "\n",
    "# def calculate(matches):\n",
    "#   sum = 0\n",
    "#   for match in matches:\n",
    "#       stripped = match[4:-1]\n",
    "#       num1, num2 = map(int, stripped.split(','))\n",
    "#       sum += mul(num1, num2)\n",
    "\n",
    "#   return sum\n",
    "  \n",
    "def calculate(matches):\n",
    "  sum = 0\n",
    "  performOps = True\n",
    "  for match in matches:\n",
    "      if type(match) == str:\n",
    "        if performOps:\n",
    "          stripped = match[4:-1]\n",
    "          num1, num2 = map(int, stripped.split(','))\n",
    "          sum += mul(num1, num2)\n",
    "      else:\n",
    "        performOps = match\n",
    "\n",
    "  return sum\n",
    "\n",
    "def getFinalAnswer():\n",
    "  pattern = r'mul\\(\\d+,\\s*\\d+\\)'\n",
    "  matches = getPattern(pattern)\n",
    "  print(calculate(matches[:6]))\n",
    "  \n",
    "def getFinalAnswer2():\n",
    "  pattern = r\"(mul\\(\\d+,\\s*\\d+\\)|do\\(\\)|don't\\(\\))\"\n",
    "  matches = getPattern(pattern, True)\n",
    "  print(calculate(matches))\n",
    "\n",
    "\n",
    "getFinalAnswer()\n",
    "getFinalAnswer2()\n"
   ]
  }
 ],
 "metadata": {
  "kernelspec": {
   "display_name": "Python 3 (ipykernel)",
   "language": "python",
   "name": "python3"
  },
  "language_info": {
   "codemirror_mode": {
    "name": "ipython",
    "version": 3
   },
   "file_extension": ".py",
   "mimetype": "text/x-python",
   "name": "python",
   "nbconvert_exporter": "python",
   "pygments_lexer": "ipython3",
   "version": "3.12.7"
  }
 },
 "nbformat": 4,
 "nbformat_minor": 5
}
