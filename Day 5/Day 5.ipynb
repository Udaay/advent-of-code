{
 "cells": [
  {
   "cell_type": "code",
   "execution_count": null,
   "id": "a5d23760-4e40-43f9-a16a-f3d38fdbf855",
   "metadata": {
    "scrolled": true
   },
   "outputs": [],
   "source": [
    "from collections import defaultdict, deque\n",
    "\n",
    "def parse_rules():\n",
    "    graph = defaultdict(set)\n",
    "    with open('rules.txt', 'r') as file:\n",
    "      for line in file:\n",
    "        a, b = map(int, line.strip().split('|'))\n",
    "        graph[a].add(b)\n",
    "    return graph\n",
    "\n",
    "def isValid(arr):\n",
    "  graph = parse_rules()\n",
    "  subGraph = {node: graph[node] & set(arr) for node in arr if node in graph}\n",
    "  inDegree = defaultdict(int)\n",
    "\n",
    "  for node in subGraph:\n",
    "    for neigh in subGraph[node]:\n",
    "      inDegree[neigh] += 1\n",
    "\n",
    "  res = []\n",
    "  q = deque([node for node in arr if inDegree[node] == 0])\n",
    "\n",
    "  while q:\n",
    "    node = q.popleft()\n",
    "    res.append(node)\n",
    "    for neigh in subGraph.get(node, []):\n",
    "      inDegree[neigh] -=1\n",
    "      if inDegree[neigh] == 0:\n",
    "        q.append(neigh)\n",
    "\n",
    "  return (len(res) == len(arr) and res == arr, res)\n",
    "  \n",
    "\n",
    "def sumUpMiddle(isPart2 = False):\n",
    "  sum = 0\n",
    "  \n",
    "  with open('input.txt', 'r') as file:\n",
    "    for line in file:\n",
    "      row = list(map(int,line.strip().split(',')))\n",
    "      is_valid, updatedArr = isValid(row)\n",
    "      if is_valid:\n",
    "        sum += row[len(row)//2]\n",
    "  \n",
    "      # For PART 2 Solution\n",
    "      # if not is_valid:\n",
    "      #   sum += updatedArr[len(updatedArr)//2]\n",
    "  return sum\n",
    "\n",
    "sumUpMiddle()"
   ]
  },
  {
   "cell_type": "code",
   "execution_count": null,
   "id": "bf8c3797-0e6c-4167-897f-e8125501f055",
   "metadata": {},
   "outputs": [],
   "source": []
  },
  {
   "cell_type": "code",
   "execution_count": null,
   "id": "3aa0ffde-98f7-4b3d-9e92-6f71012f37a2",
   "metadata": {},
   "outputs": [],
   "source": []
  }
 ],
 "metadata": {
  "kernelspec": {
   "display_name": "Python 3 (ipykernel)",
   "language": "python",
   "name": "python3"
  },
  "language_info": {
   "codemirror_mode": {
    "name": "ipython",
    "version": 3
   },
   "file_extension": ".py",
   "mimetype": "text/x-python",
   "name": "python",
   "nbconvert_exporter": "python",
   "pygments_lexer": "ipython3",
   "version": "3.12.7"
  }
 },
 "nbformat": 4,
 "nbformat_minor": 5
}
