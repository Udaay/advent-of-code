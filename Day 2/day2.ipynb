{
 "cells": [
  {
   "cell_type": "code",
   "execution_count": 2,
   "id": "9f108612-390d-4dd8-a3a6-6297a75f002f",
   "metadata": {},
   "outputs": [],
   "source": [
    "def convertToList():\n",
    "  with open('input.txt', 'r') as file:\n",
    "    data = file.readlines()\n",
    "\n",
    "  arr = [list(map(int, line.split())) for line in data]\n",
    "  return arr"
   ]
  },
  {
   "cell_type": "code",
   "execution_count": 3,
   "id": "569e0af1-d6a0-4025-af86-da2be5a9475e",
   "metadata": {},
   "outputs": [],
   "source": [
    "def getSafeRow():\n",
    "    arr = convertToList()\n",
    "    count = 0\n",
    "    \n",
    "    for row in arr:\n",
    "        n = len(row)\n",
    "        if n < 2:\n",
    "            continue\n",
    "        \n",
    "        isIncreasing = row[0] < row[1]\n",
    "\n",
    "        safe = True  \n",
    "        for i in range(1, n):\n",
    "            diff = abs(row[i] - row[i - 1])\n",
    "            \n",
    "            if diff < 1 or diff > 3:\n",
    "                safe = False\n",
    "                break\n",
    "            \n",
    "            if isIncreasing and row[i] <= row[i - 1]:\n",
    "                safe = False\n",
    "                break\n",
    "            if not isIncreasing and row[i] >= row[i - 1]:\n",
    "                safe = False\n",
    "                break\n",
    "\n",
    "        if safe:\n",
    "            count += 1\n",
    "\n",
    "    return count"
   ]
  },
  {
   "cell_type": "code",
   "execution_count": 4,
   "id": "2a478a68-a713-48e1-a04e-a8b81eb103e0",
   "metadata": {},
   "outputs": [
    {
     "data": {
      "text/plain": [
       "432"
      ]
     },
     "execution_count": 4,
     "metadata": {},
     "output_type": "execute_result"
    }
   ],
   "source": [
    "getSafeRow()"
   ]
  },
  {
   "cell_type": "code",
   "execution_count": 12,
   "id": "5d3d416a-a343-4ef3-8c16-06a607903c52",
   "metadata": {},
   "outputs": [
    {
     "data": {
      "text/plain": [
       "488"
      ]
     },
     "execution_count": 12,
     "metadata": {},
     "output_type": "execute_result"
    }
   ],
   "source": [
    "def isSafeRow(row):\n",
    "  n = len(row)\n",
    "  if n < 2:\n",
    "    return True\n",
    "  \n",
    "  isIncreasing = row[0] < row[1]\n",
    "  \n",
    "  safe = True  \n",
    "  for i in range(1, n):\n",
    "      diff = abs(row[i] - row[i - 1])\n",
    "      \n",
    "      if diff < 1 or diff > 3:\n",
    "          safe = False\n",
    "          break\n",
    "      \n",
    "      if isIncreasing and row[i] <= row[i - 1]:\n",
    "          safe = False\n",
    "          break\n",
    "      if not isIncreasing and row[i] >= row[i - 1]:\n",
    "          safe = False\n",
    "          break\n",
    "\n",
    "  return safe\n",
    "\n",
    "def can_be_made_safe_by_removal(row):\n",
    "    n = len(row)\n",
    "    for i in range(n):\n",
    "        new_row = row[:i] + row[i + 1:]\n",
    "        if isSafeRow(new_row):\n",
    "            return True\n",
    "    return False\n",
    "\n",
    "\n",
    "def getSafeRow():\n",
    "    arr = convertToList()\n",
    "    count = 0\n",
    "    for row in arr:\n",
    "        if isSafeRow(row) or can_be_made_safe_by_removal(row):\n",
    "            count += 1\n",
    "\n",
    "    return count\n",
    "\n",
    "\n",
    "getSafeRow()"
   ]
  },
  {
   "cell_type": "code",
   "execution_count": null,
   "id": "dabbe963-cb05-4b31-8d06-7cd9b5ad0089",
   "metadata": {},
   "outputs": [],
   "source": []
  }
 ],
 "metadata": {
  "kernelspec": {
   "display_name": "Python 3 (ipykernel)",
   "language": "python",
   "name": "python3"
  },
  "language_info": {
   "codemirror_mode": {
    "name": "ipython",
    "version": 3
   },
   "file_extension": ".py",
   "mimetype": "text/x-python",
   "name": "python",
   "nbconvert_exporter": "python",
   "pygments_lexer": "ipython3",
   "version": "3.12.7"
  }
 },
 "nbformat": 4,
 "nbformat_minor": 5
}
